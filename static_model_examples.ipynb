{
 "cells": [
  {
   "cell_type": "markdown",
   "metadata": {},
   "source": [
    "### Code for Section 4 - Applications of Static Models (SES)  \n",
    "##### Author: Evan Munro (munro@stanford.edu) \n",
    "\n",
    "This notebook contains the code for estimating figures and tables from Section 4 of the paper. \n",
    "\n",
    "For now, while I am iterating through different applications, I use existing packages for GoM, LDA and latent class. Eventually, I plan on adding a sampler for each of those models to dhlvm. \n",
    "\n",
    "Each of these models are estimated on the cleaned DHS data that I received from Marshall Burke. \n",
    "\n",
    "#### I. Prepare Data"
   ]
  },
  {
   "cell_type": "markdown",
   "metadata": {},
   "source": [
    "The country codes are based on the ISO alpha-2 standard. For this example,I have chosen to work with all the survey data from sub-saharan Africa in 2014. First, load packages and raw data. "
   ]
  },
  {
   "cell_type": "code",
   "execution_count": 129,
   "metadata": {},
   "outputs": [
    {
     "data": {
      "text/html": [
       "<table>\n",
       "<thead><tr><th scope=col>hhid</th><th scope=col>rooms</th><th scope=col>hv000</th><th scope=col>hv001</th><th scope=col>year</th><th scope=col>cname</th><th scope=col>water_qual</th><th scope=col>toilet_qual</th><th scope=col>floor_qual</th><th scope=col>electric</th><th scope=col>radio</th><th scope=col>tv</th><th scope=col>fridge</th><th scope=col>motorbike</th><th scope=col>car</th><th scope=col>phone</th><th scope=col>hhwt</th><th scope=col>weight</th><th scope=col>index</th></tr></thead>\n",
       "<tbody>\n",
       "\t<tr><td>      276 60</td><td>2           </td><td>AF7         </td><td>276         </td><td>1394        </td><td>AF          </td><td>1           </td><td>3           </td><td>3           </td><td>1           </td><td>1           </td><td>1           </td><td>0           </td><td>1           </td><td>0           </td><td>1           </td><td>0.361154    </td><td>99          </td><td> 0.20820500 </td></tr>\n",
       "\t<tr><td>      235 72</td><td>1           </td><td>AF7         </td><td>235         </td><td>1394        </td><td>AF          </td><td>4           </td><td>3           </td><td>3           </td><td>1           </td><td>0           </td><td>0           </td><td>0           </td><td>0           </td><td>0           </td><td>1           </td><td>0.964907    </td><td>99          </td><td>-0.09710647 </td></tr>\n",
       "\t<tr><td>      954 15</td><td>1           </td><td>AF7         </td><td>954         </td><td>1394        </td><td>AF          </td><td>4           </td><td>3           </td><td>4           </td><td>0           </td><td>1           </td><td>0           </td><td>0           </td><td>0           </td><td>0           </td><td>1           </td><td>0.408666    </td><td>99          </td><td>-0.24276462 </td></tr>\n",
       "\t<tr><td>      544 53</td><td>1           </td><td>AF7         </td><td>544         </td><td>1394        </td><td>AF          </td><td>4           </td><td>3           </td><td>4           </td><td>1           </td><td>0           </td><td>1           </td><td>0           </td><td>0           </td><td>0           </td><td>1           </td><td>0.585597    </td><td>99          </td><td> 0.47130045 </td></tr>\n",
       "\t<tr><td>      581 47</td><td>2           </td><td>AF7         </td><td>581         </td><td>1394        </td><td>AF          </td><td>1           </td><td>3           </td><td>4           </td><td>1           </td><td>0           </td><td>0           </td><td>0           </td><td>0           </td><td>0           </td><td>1           </td><td>1.918440    </td><td>99          </td><td>-0.26586077 </td></tr>\n",
       "\t<tr><td>      845189</td><td>2           </td><td>AF7         </td><td>845         </td><td>1394        </td><td>AF          </td><td>4           </td><td>3           </td><td>4           </td><td>0           </td><td>0           </td><td>0           </td><td>0           </td><td>0           </td><td>0           </td><td>1           </td><td>1.361916    </td><td>99          </td><td>-0.40023568 </td></tr>\n",
       "</tbody>\n",
       "</table>\n"
      ],
      "text/latex": [
       "\\begin{tabular}{r|lllllllllllllllllll}\n",
       " hhid & rooms & hv000 & hv001 & year & cname & water\\_qual & toilet\\_qual & floor\\_qual & electric & radio & tv & fridge & motorbike & car & phone & hhwt & weight & index\\\\\n",
       "\\hline\n",
       "\t       276 60 & 2            & AF7          & 276          & 1394         & AF           & 1            & 3            & 3            & 1            & 1            & 1            & 0            & 1            & 0            & 1            & 0.361154     & 99           &  0.20820500 \\\\\n",
       "\t       235 72 & 1            & AF7          & 235          & 1394         & AF           & 4            & 3            & 3            & 1            & 0            & 0            & 0            & 0            & 0            & 1            & 0.964907     & 99           & -0.09710647 \\\\\n",
       "\t       954 15 & 1            & AF7          & 954          & 1394         & AF           & 4            & 3            & 4            & 0            & 1            & 0            & 0            & 0            & 0            & 1            & 0.408666     & 99           & -0.24276462 \\\\\n",
       "\t       544 53 & 1            & AF7          & 544          & 1394         & AF           & 4            & 3            & 4            & 1            & 0            & 1            & 0            & 0            & 0            & 1            & 0.585597     & 99           &  0.47130045 \\\\\n",
       "\t       581 47 & 2            & AF7          & 581          & 1394         & AF           & 1            & 3            & 4            & 1            & 0            & 0            & 0            & 0            & 0            & 1            & 1.918440     & 99           & -0.26586077 \\\\\n",
       "\t       845189 & 2            & AF7          & 845          & 1394         & AF           & 4            & 3            & 4            & 0            & 0            & 0            & 0            & 0            & 0            & 1            & 1.361916     & 99           & -0.40023568 \\\\\n",
       "\\end{tabular}\n"
      ],
      "text/markdown": [
       "\n",
       "hhid | rooms | hv000 | hv001 | year | cname | water_qual | toilet_qual | floor_qual | electric | radio | tv | fridge | motorbike | car | phone | hhwt | weight | index | \n",
       "|---|---|---|---|---|---|\n",
       "|       276 60 | 2            | AF7          | 276          | 1394         | AF           | 1            | 3            | 3            | 1            | 1            | 1            | 0            | 1            | 0            | 1            | 0.361154     | 99           |  0.20820500  | \n",
       "|       235 72 | 1            | AF7          | 235          | 1394         | AF           | 4            | 3            | 3            | 1            | 0            | 0            | 0            | 0            | 0            | 1            | 0.964907     | 99           | -0.09710647  | \n",
       "|       954 15 | 1            | AF7          | 954          | 1394         | AF           | 4            | 3            | 4            | 0            | 1            | 0            | 0            | 0            | 0            | 1            | 0.408666     | 99           | -0.24276462  | \n",
       "|       544 53 | 1            | AF7          | 544          | 1394         | AF           | 4            | 3            | 4            | 1            | 0            | 1            | 0            | 0            | 0            | 1            | 0.585597     | 99           |  0.47130045  | \n",
       "|       581 47 | 2            | AF7          | 581          | 1394         | AF           | 1            | 3            | 4            | 1            | 0            | 0            | 0            | 0            | 0            | 1            | 1.918440     | 99           | -0.26586077  | \n",
       "|       845189 | 2            | AF7          | 845          | 1394         | AF           | 4            | 3            | 4            | 0            | 0            | 0            | 0            | 0            | 0            | 1            | 1.361916     | 99           | -0.40023568  | \n",
       "\n",
       "\n"
      ],
      "text/plain": [
       "  hhid         rooms hv000 hv001 year cname water_qual toilet_qual floor_qual\n",
       "1       276 60 2     AF7   276   1394 AF    1          3           3         \n",
       "2       235 72 1     AF7   235   1394 AF    4          3           3         \n",
       "3       954 15 1     AF7   954   1394 AF    4          3           4         \n",
       "4       544 53 1     AF7   544   1394 AF    4          3           4         \n",
       "5       581 47 2     AF7   581   1394 AF    1          3           4         \n",
       "6       845189 2     AF7   845   1394 AF    4          3           4         \n",
       "  electric radio tv fridge motorbike car phone hhwt     weight index      \n",
       "1 1        1     1  0      1         0   1     0.361154 99      0.20820500\n",
       "2 1        0     0  0      0         0   1     0.964907 99     -0.09710647\n",
       "3 0        1     0  0      0         0   1     0.408666 99     -0.24276462\n",
       "4 1        0     1  0      0         0   1     0.585597 99      0.47130045\n",
       "5 1        0     0  0      0         0   1     1.918440 99     -0.26586077\n",
       "6 0        0     0  0      0         0   1     1.361916 99     -0.40023568"
      ]
     },
     "metadata": {},
     "output_type": "display_data"
    }
   ],
   "source": [
    "setwd(\"~/Documents/Data/DHS_Burke/\")\n",
    "library(topicmodels)\n",
    "library(mixedMem)\n",
    "library(readstata13)\n",
    "library(dplyr)\n",
    "library(tidyr)\n",
    "library(ggplot2) \n",
    "rawData = read.dta13(\"dhs_41417_indexed_weighted.dta\")\n",
    "head(rawData)"
   ]
  },
  {
   "cell_type": "markdown",
   "metadata": {},
   "source": [
    "Then, select data from Latin Amerixa after 2009 only. "
   ]
  },
  {
   "cell_type": "code",
   "execution_count": 417,
   "metadata": {},
   "outputs": [
    {
     "name": "stdout",
     "output_type": "stream",
     "text": [
      " [1] \"AF\" \"AL\" \"AM\" \"AO\" \"AZ\" \"BD\" \"BF\" \"BJ\" \"BO\" \"BU\" \"CD\" \"CF\" \"CG\" \"CI\" \"CM\"\n",
      "[16] \"CO\" \"DR\" \"EG\" \"ET\" \"GA\" \"GH\" \"GM\" \"GN\" \"GU\" \"GY\" \"HT\" \"IA\" \"ID\" \"JO\" \"KE\"\n",
      "[31] \"KH\" \"KK\" \"KM\" \"KY\" \"LB\" \"LS\" \"MB\" \"MD\" \"ML\" \"MM\" \"MV\" \"MW\" \"MZ\" \"NC\" \"NG\"\n",
      "[46] \"NI\" \"NM\" \"NP\" \"PE\" \"PH\" \"PK\" \"RW\" \"SL\" \"SN\" \"ST\" \"SZ\" \"TD\" \"TG\" \"TJ\" \"TL\"\n",
      "[61] \"TZ\" \"UA\" \"UG\" \"UZ\" \"VN\" \"YE\" \"ZA\" \"ZM\" \"ZW\"\n"
     ]
    },
    {
     "data": {
      "text/plain": [
       "\n",
       "    CO     GY     HT     NI     PE \n",
       " 51447   5445  12839  10702 107183 "
      ]
     },
     "metadata": {},
     "output_type": "display_data"
    },
    {
     "data": {
      "text/html": [
       "<table>\n",
       "<thead><tr><th scope=col>year</th><th scope=col>cname</th><th scope=col>index</th><th scope=col>hhwt</th><th scope=col>water_qual</th><th scope=col>toilet_qual</th><th scope=col>floor_qual</th><th scope=col>electric</th><th scope=col>radio</th><th scope=col>tv</th><th scope=col>fridge</th><th scope=col>motorbike</th><th scope=col>car</th><th scope=col>phone</th></tr></thead>\n",
       "<tbody>\n",
       "\t<tr><td>2010    </td><td>CO      </td><td>1.433201</td><td>0.843376</td><td>4       </td><td>5       </td><td>3       </td><td>1       </td><td>1       </td><td>1       </td><td>1       </td><td>1       </td><td>0       </td><td>1       </td></tr>\n",
       "\t<tr><td>2009    </td><td>CO      </td><td>1.433201</td><td>0.554607</td><td>4       </td><td>5       </td><td>3       </td><td>1       </td><td>1       </td><td>1       </td><td>1       </td><td>0       </td><td>0       </td><td>1       </td></tr>\n",
       "\t<tr><td>2010    </td><td>CO      </td><td>1.433201</td><td>0.763760</td><td>4       </td><td>5       </td><td>3       </td><td>1       </td><td>1       </td><td>1       </td><td>1       </td><td>0       </td><td>0       </td><td>1       </td></tr>\n",
       "\t<tr><td>2010    </td><td>CO      </td><td>1.433201</td><td>2.601527</td><td>4       </td><td>5       </td><td>3       </td><td>1       </td><td>1       </td><td>1       </td><td>1       </td><td>0       </td><td>0       </td><td>1       </td></tr>\n",
       "\t<tr><td>2010    </td><td>CO      </td><td>1.433201</td><td>0.298317</td><td>4       </td><td>5       </td><td>3       </td><td>1       </td><td>1       </td><td>1       </td><td>1       </td><td>0       </td><td>0       </td><td>1       </td></tr>\n",
       "\t<tr><td>2010    </td><td>CO      </td><td>1.433201</td><td>0.053970</td><td>4       </td><td>5       </td><td>3       </td><td>1       </td><td>1       </td><td>1       </td><td>1       </td><td>0       </td><td>0       </td><td>1       </td></tr>\n",
       "</tbody>\n",
       "</table>\n"
      ],
      "text/latex": [
       "\\begin{tabular}{r|llllllllllllll}\n",
       " year & cname & index & hhwt & water\\_qual & toilet\\_qual & floor\\_qual & electric & radio & tv & fridge & motorbike & car & phone\\\\\n",
       "\\hline\n",
       "\t 2010     & CO       & 1.433201 & 0.843376 & 4        & 5        & 3        & 1        & 1        & 1        & 1        & 1        & 0        & 1       \\\\\n",
       "\t 2009     & CO       & 1.433201 & 0.554607 & 4        & 5        & 3        & 1        & 1        & 1        & 1        & 0        & 0        & 1       \\\\\n",
       "\t 2010     & CO       & 1.433201 & 0.763760 & 4        & 5        & 3        & 1        & 1        & 1        & 1        & 0        & 0        & 1       \\\\\n",
       "\t 2010     & CO       & 1.433201 & 2.601527 & 4        & 5        & 3        & 1        & 1        & 1        & 1        & 0        & 0        & 1       \\\\\n",
       "\t 2010     & CO       & 1.433201 & 0.298317 & 4        & 5        & 3        & 1        & 1        & 1        & 1        & 0        & 0        & 1       \\\\\n",
       "\t 2010     & CO       & 1.433201 & 0.053970 & 4        & 5        & 3        & 1        & 1        & 1        & 1        & 0        & 0        & 1       \\\\\n",
       "\\end{tabular}\n"
      ],
      "text/markdown": [
       "\n",
       "year | cname | index | hhwt | water_qual | toilet_qual | floor_qual | electric | radio | tv | fridge | motorbike | car | phone | \n",
       "|---|---|---|---|---|---|\n",
       "| 2010     | CO       | 1.433201 | 0.843376 | 4        | 5        | 3        | 1        | 1        | 1        | 1        | 1        | 0        | 1        | \n",
       "| 2009     | CO       | 1.433201 | 0.554607 | 4        | 5        | 3        | 1        | 1        | 1        | 1        | 0        | 0        | 1        | \n",
       "| 2010     | CO       | 1.433201 | 0.763760 | 4        | 5        | 3        | 1        | 1        | 1        | 1        | 0        | 0        | 1        | \n",
       "| 2010     | CO       | 1.433201 | 2.601527 | 4        | 5        | 3        | 1        | 1        | 1        | 1        | 0        | 0        | 1        | \n",
       "| 2010     | CO       | 1.433201 | 0.298317 | 4        | 5        | 3        | 1        | 1        | 1        | 1        | 0        | 0        | 1        | \n",
       "| 2010     | CO       | 1.433201 | 0.053970 | 4        | 5        | 3        | 1        | 1        | 1        | 1        | 0        | 0        | 1        | \n",
       "\n",
       "\n"
      ],
      "text/plain": [
       "  year cname index    hhwt     water_qual toilet_qual floor_qual electric radio\n",
       "1 2010 CO    1.433201 0.843376 4          5           3          1        1    \n",
       "2 2009 CO    1.433201 0.554607 4          5           3          1        1    \n",
       "3 2010 CO    1.433201 0.763760 4          5           3          1        1    \n",
       "4 2010 CO    1.433201 2.601527 4          5           3          1        1    \n",
       "5 2010 CO    1.433201 0.298317 4          5           3          1        1    \n",
       "6 2010 CO    1.433201 0.053970 4          5           3          1        1    \n",
       "  tv fridge motorbike car phone\n",
       "1 1  1      1         0   1    \n",
       "2 1  1      0         0   1    \n",
       "3 1  1      0         0   1    \n",
       "4 1  1      0         0   1    \n",
       "5 1  1      0         0   1    \n",
       "6 1  1      0         0   1    "
      ]
     },
     "metadata": {},
     "output_type": "display_data"
    },
    {
     "name": "stdout",
     "output_type": "stream",
     "text": [
      "[1] 187616     14\n",
      "[1] 2010 2009 2012 2011\n"
     ]
    }
   ],
   "source": [
    "print(unique(rawData$cname))\n",
    "asia_code = c(\"AZ\",\"AF\",\"BD\",\"ID\",\"JO\",\"KH\",\"LB\",\n",
    "              \"MM\",\"NP\",\"PH\",\"PK\",\"TJ\",\"UZ\",\"YE\")\n",
    "latin_code = c(\"BO\",\"CO\",\"DR\",\"GY\",\"HT\",\"NI\",\"PE\",\"VN\")\n",
    "north_af_code = c(\"EG\",\"ET\",\"ML\",\"TD\")\n",
    "europe_code = c(\"MD\",\"UA\")\n",
    "subsaharan_code =c(\"AL\",\"BF\",\"BJ\",\"CD\",\"CF\",\"CG\",\"CI\",\"CM\",\"GA\",\"GH\",\"GM\",\n",
    "             \"GN\",\"KE\",\"LS\",\"MW\",\"MZ\",\"NG\",\"RW\",\"SL\",\"SN\",\"ST\",\n",
    "             \"SZ\",\"TG\",\"TZ\",\"UG\",\"ZA\",\"ZM\",\"ZW\")\n",
    "subsaharan_name = c(\"Angola\",\"Burkina Faso\",\"Benin\",\"DRC\",\"Central African Republic\",\n",
    "          \"Congo\",\"Cote DIvoire\",\"Cameroon\",\"Gabon\",\"Ghana\",\"Gambia\",\"Guinea\",\n",
    "          \"Kenya\",\"Lesotho\",\"Malawi\",\"Mozambique\",\"Nigeria\",\"Rwanda\",\"Sierra Leone\",\n",
    "          \"Senegal\",\"Sao Tome and Principe\",\"Swaziland\",\"Togo\",\"Tanzania\",\"Uganda\",\n",
    "            \"South Africa\",\"Zambia\",\"Zimbabwe\")\n",
    "\n",
    "index.vars = colnames(rawData)[7:16]\n",
    "\n",
    "subsaharan <- rawData %>%\n",
    "                filter(year >=2009) %>%\n",
    "               filter(cname %in% latin_code) %>% \n",
    "                select(append(c(\"year\",\"cname\",\"index\",\"hhwt\"),index.vars))\n",
    "\n",
    "table(subsaharan$cname)\n",
    "subsaharan[subsaharan$water_qual %in% c(3,4,5),\"water_qual\"] = subsaharan[subsaharan$water_qual %in% c(3,4,5),\"water_qual\"] -1 \n",
    "subsaharan[subsaharan$floor_qual %in% c(3,4,5),\"floor_qual\"] = subsaharan[subsaharan$floor_qual %in% c(3,4,5),\"floor_qual\"] -1 \n",
    "head(subsaharan)\n",
    "\n",
    "print(dim(subsaharan))\n",
    "print(unique(subsaharan$year))\n",
    "\n",
    "#colSums(table(rawData$cname,rawData$year)!=0)"
   ]
  },
  {
   "cell_type": "markdown",
   "metadata": {},
   "source": [
    "#### II. Estimate Baseline Principal Components Based Models"
   ]
  },
  {
   "cell_type": "code",
   "execution_count": 391,
   "metadata": {},
   "outputs": [],
   "source": [
    "polyt <- c(\"water_qual\",\"toilet_qual\",\"floor_qual\")\n",
    "subsaharan.fprit<- subsaharan\n",
    "subsaharan.fprit[,polyt] <- apply(subsaharan.fprit[,polyt],MARGIN=2,FUN=as.factor)\n",
    "subsaharan.fprit <- model.matrix(~.-1,data=subsaharan.fprit[index.vars])"
   ]
  },
  {
   "cell_type": "code",
   "execution_count": 392,
   "metadata": {},
   "outputs": [
    {
     "name": "stderr",
     "output_type": "stream",
     "text": [
      "Warning message in matpLower(x, nvar, gminx, gmaxx, gminy, gmaxy):\n",
      "“45 cells were adjusted for 0 values using the correction for continuity. Examine your data carefully.”"
     ]
    }
   ],
   "source": [
    "library(psych) \n",
    "pca <- prcomp(subsaharan[,index.vars], center = TRUE,scale. = TRUE)\n",
    "fprit <- prcomp(subsaharan.fprit,center=TRUE,scale.=TRUE)\n",
    "pchlor <- fa(subsaharan[,index.vars],rotation=None, cor=\"poly\") \n",
    "\n",
    "subsaharan$pca = pca$x[,1]\n",
    "subsaharan$fprit = -fprit$x[,1]\n",
    "subsaharan$pchlor= pchlor$scores[,1]\n"
   ]
  },
  {
   "cell_type": "markdown",
   "metadata": {},
   "source": [
    "#### II. Country-Specific Index (LDA)"
   ]
  },
  {
   "cell_type": "code",
   "execution_count": 393,
   "metadata": {},
   "outputs": [
    {
     "data": {
      "text/html": [
       "<ol class=list-inline>\n",
       "\t<li>5</li>\n",
       "\t<li>2867</li>\n",
       "</ol>\n"
      ],
      "text/latex": [
       "\\begin{enumerate*}\n",
       "\\item 5\n",
       "\\item 2867\n",
       "\\end{enumerate*}\n"
      ],
      "text/markdown": [
       "1. 5\n",
       "2. 2867\n",
       "\n",
       "\n"
      ],
      "text/plain": [
       "[1]    5 2867"
      ]
     },
     "metadata": {},
     "output_type": "display_data"
    }
   ],
   "source": [
    "#Prepare data for LDA (using household weights) \n",
    "subsaharan$all = apply(subsaharan[,index.vars],MARGIN=1,paste,collapse=\"\")\n",
    "weighted = F\n",
    "if (weighted) { \n",
    "    subsaharan.counts =  subsaharan %>%\n",
    "                    group_by(cname,all) %>%\n",
    "                    summarize(hhwt=floor(sum(hhwt))) %>%\n",
    "                    spread(all,hhwt,fill=0) \n",
    "                \n",
    "\n",
    "    subsaharan.counts = as.data.frame(subsaharan.counts)\n",
    "    subsaharan.counts = select(subsaharan.counts,-cname)\n",
    "    rownames(subsaharan.counts) = baseline$cname\n",
    "} else { \n",
    "    subsaharan.counts = t(table(subsaharan$all,subsaharan$cname))\n",
    "}\n",
    "dim(subsaharan.counts)\n",
    "    "
   ]
  },
  {
   "cell_type": "code",
   "execution_count": 395,
   "metadata": {},
   "outputs": [
    {
     "data": {
      "text/html": [
       "<table>\n",
       "<thead><tr><th></th><th scope=col>1</th><th scope=col>2</th></tr></thead>\n",
       "<tbody>\n",
       "\t<tr><th scope=row>CO</th><td>0.001922442</td><td>0.998077558</td></tr>\n",
       "\t<tr><th scope=row>GY</th><td>0.448225660</td><td>0.551774340</td></tr>\n",
       "\t<tr><th scope=row>HT</th><td>0.988206998</td><td>0.011793002</td></tr>\n",
       "\t<tr><th scope=row>NI</th><td>0.992838542</td><td>0.007161458</td></tr>\n",
       "\t<tr><th scope=row>PE</th><td>0.726502103</td><td>0.273497897</td></tr>\n",
       "</tbody>\n",
       "</table>\n"
      ],
      "text/latex": [
       "\\begin{tabular}{r|ll}\n",
       "  & 1 & 2\\\\\n",
       "\\hline\n",
       "\tCO & 0.001922442 & 0.998077558\\\\\n",
       "\tGY & 0.448225660 & 0.551774340\\\\\n",
       "\tHT & 0.988206998 & 0.011793002\\\\\n",
       "\tNI & 0.992838542 & 0.007161458\\\\\n",
       "\tPE & 0.726502103 & 0.273497897\\\\\n",
       "\\end{tabular}\n"
      ],
      "text/markdown": [
       "\n",
       "| <!--/--> | 1 | 2 | \n",
       "|---|---|---|---|---|\n",
       "| CO | 0.001922442 | 0.998077558 | \n",
       "| GY | 0.448225660 | 0.551774340 | \n",
       "| HT | 0.988206998 | 0.011793002 | \n",
       "| NI | 0.992838542 | 0.007161458 | \n",
       "| PE | 0.726502103 | 0.273497897 | \n",
       "\n",
       "\n"
      ],
      "text/plain": [
       "   1           2          \n",
       "CO 0.001922442 0.998077558\n",
       "GY 0.448225660 0.551774340\n",
       "HT 0.988206998 0.011793002\n",
       "NI 0.992838542 0.007161458\n",
       "PE 0.726502103 0.273497897"
      ]
     },
     "metadata": {},
     "output_type": "display_data"
    },
    {
     "data": {
      "text/html": [
       "<table>\n",
       "<thead><tr><th scope=col>cname</th><th scope=col>pca</th><th scope=col>fprit</th><th scope=col>pchlor</th></tr></thead>\n",
       "<tbody>\n",
       "\t<tr><td>CO         </td><td>-1.10099496</td><td> 1.20229367</td><td> 0.61640488</td></tr>\n",
       "\t<tr><td>GY         </td><td>-0.12729222</td><td>-0.28191920</td><td> 0.04917278</td></tr>\n",
       "\t<tr><td>HT         </td><td> 1.87442037</td><td>-2.42138994</td><td>-1.15710544</td></tr>\n",
       "\t<tr><td>NI         </td><td> 2.32821558</td><td>-2.47539035</td><td>-1.29526958</td></tr>\n",
       "\t<tr><td>PE         </td><td> 0.07793911</td><td>-0.02555908</td><td>-0.03043277</td></tr>\n",
       "</tbody>\n",
       "</table>\n"
      ],
      "text/latex": [
       "\\begin{tabular}{r|llll}\n",
       " cname & pca & fprit & pchlor\\\\\n",
       "\\hline\n",
       "\t CO          & -1.10099496 &  1.20229367 &  0.61640488\\\\\n",
       "\t GY          & -0.12729222 & -0.28191920 &  0.04917278\\\\\n",
       "\t HT          &  1.87442037 & -2.42138994 & -1.15710544\\\\\n",
       "\t NI          &  2.32821558 & -2.47539035 & -1.29526958\\\\\n",
       "\t PE          &  0.07793911 & -0.02555908 & -0.03043277\\\\\n",
       "\\end{tabular}\n"
      ],
      "text/markdown": [
       "\n",
       "cname | pca | fprit | pchlor | \n",
       "|---|---|---|---|---|\n",
       "| CO          | -1.10099496 |  1.20229367 |  0.61640488 | \n",
       "| GY          | -0.12729222 | -0.28191920 |  0.04917278 | \n",
       "| HT          |  1.87442037 | -2.42138994 | -1.15710544 | \n",
       "| NI          |  2.32821558 | -2.47539035 | -1.29526958 | \n",
       "| PE          |  0.07793911 | -0.02555908 | -0.03043277 | \n",
       "\n",
       "\n"
      ],
      "text/plain": [
       "  cname pca         fprit       pchlor     \n",
       "1 CO    -1.10099496  1.20229367  0.61640488\n",
       "2 GY    -0.12729222 -0.28191920  0.04917278\n",
       "3 HT     1.87442037 -2.42138994 -1.15710544\n",
       "4 NI     2.32821558 -2.47539035 -1.29526958\n",
       "5 PE     0.07793911 -0.02555908 -0.03043277"
      ]
     },
     "metadata": {},
     "output_type": "display_data"
    }
   ],
   "source": [
    "#estimate the model \n",
    "\n",
    "lda.model = LDA(subsaharan.counts,method=\"Gibbs\",k=2,control=list(seed=2017,burnin=100))\n",
    "theta.lda = posterior(lda.model)$topics\n",
    "beta.lda = posterior(lda.model)$terms\n",
    "#indexes[,c(\"pca\",\"fprit\",\"pchlor\")] <- apply(indexes[,c(\"pca\",\"fprit\",\"pchlor\")],MARGIN=2,FUN=function(x) return((x-min(x))/(max(x)-min(x))))\n",
    "theta.lda\n",
    "\n",
    "indexes <- subsaharan %>%\n",
    "            group_by(cname) %>%\n",
    "            summarize(pca=mean(pca),fprit=mean(fprit),\n",
    "                      pchlor=mean(pchlor))\n",
    "indexes\n"
   ]
  },
  {
   "cell_type": "code",
   "execution_count": 396,
   "metadata": {},
   "outputs": [
    {
     "name": "stdout",
     "output_type": "stream",
     "text": [
      "% latex table generated in R 3.5.1 by xtable 1.8-3 package\n",
      "% Mon Feb 25 17:45:01 2019\n",
      "\\begin{table}[ht]\n",
      "\\centering\n",
      "\\begin{tabular}{rrr}\n",
      "  \\hline\n",
      " & 1 & 2 \\\\ \n",
      "  \\hline\n",
      "4531110001 & 0.06 & 0.30 \\\\ \n",
      "  4541111001 & 0.04 & 0.09 \\\\ \n",
      "  4211110001 & 0.03 & 0.06 \\\\ \n",
      "  4511110001 & 0.02 & 0.05 \\\\ \n",
      "  4541111011 & 0.02 & 0.05 \\\\ \n",
      "  1110000000 & 0.02 & 0.03 \\\\ \n",
      "  3110000000 & 0.02 & 0.02 \\\\ \n",
      "  1110100000 & 0.02 & 0.02 \\\\ \n",
      "  4231110001 & 0.01 & 0.01 \\\\ \n",
      "  1210100000 & 0.01 & 0.01 \\\\ \n",
      "   \\hline\n",
      "\\end{tabular}\n",
      "\\end{table}\n"
     ]
    },
    {
     "data": {
      "text/html": [
       "<dl class=dl-horizontal>\n",
       "\t<dt>4531111001</dt>\n",
       "\t\t<dd>0.302073591154706</dd>\n",
       "\t<dt>4531111101</dt>\n",
       "\t\t<dd>0.0938588474925935</dd>\n",
       "\t<dt>4531111011</dt>\n",
       "\t\t<dd>0.0579818820730445</dd>\n",
       "\t<dt>4531110001</dt>\n",
       "\t\t<dd>0.0535967875914899</dd>\n",
       "\t<dt>4531011001</dt>\n",
       "\t\t<dd>0.0518498800337973</dd>\n",
       "\t<dt>4531010001</dt>\n",
       "\t\t<dd>0.032194199078536</dd>\n",
       "\t<dt>4531111111</dt>\n",
       "\t\t<dd>0.0204887300695079</dd>\n",
       "\t<dt>4531011101</dt>\n",
       "\t\t<dd>0.0167691241813599</dd>\n",
       "\t<dt>1531111001</dt>\n",
       "\t\t<dd>0.0107559593909353</dd>\n",
       "\t<dt>4531000001</dt>\n",
       "\t\t<dd>0.00997163354870604</dd>\n",
       "</dl>\n"
      ],
      "text/latex": [
       "\\begin{description*}\n",
       "\\item[4531111001] 0.302073591154706\n",
       "\\item[4531111101] 0.0938588474925935\n",
       "\\item[4531111011] 0.0579818820730445\n",
       "\\item[4531110001] 0.0535967875914899\n",
       "\\item[4531011001] 0.0518498800337973\n",
       "\\item[4531010001] 0.032194199078536\n",
       "\\item[4531111111] 0.0204887300695079\n",
       "\\item[4531011101] 0.0167691241813599\n",
       "\\item[1531111001] 0.0107559593909353\n",
       "\\item[4531000001] 0.00997163354870604\n",
       "\\end{description*}\n"
      ],
      "text/markdown": [
       "4531111001\n",
       ":   0.3020735911547064531111101\n",
       ":   0.09385884749259354531111011\n",
       ":   0.05798188207304454531110001\n",
       ":   0.05359678759148994531011001\n",
       ":   0.05184988003379734531010001\n",
       ":   0.0321941990785364531111111\n",
       ":   0.02048873006950794531011101\n",
       ":   0.01676912418135991531111001\n",
       ":   0.01075595939093534531000001\n",
       ":   0.00997163354870604\n",
       "\n"
      ],
      "text/plain": [
       " 4531111001  4531111101  4531111011  4531110001  4531011001  4531010001 \n",
       "0.302073591 0.093858847 0.057981882 0.053596788 0.051849880 0.032194199 \n",
       " 4531111111  4531011101  1531111001  4531000001 \n",
       "0.020488730 0.016769124 0.010755959 0.009971634 "
      ]
     },
     "metadata": {},
     "output_type": "display_data"
    },
    {
     "name": "stderr",
     "output_type": "stream",
     "text": [
      "ERROR while rich displaying an object: Error in FUN(X[[i]], ...): object 'lda' not found\n",
      "\n",
      "Traceback:\n",
      "1. FUN(X[[i]], ...)\n",
      "2. tryCatch(withCallingHandlers({\n",
      " .     if (!mime %in% names(repr::mime2repr)) \n",
      " .         stop(\"No repr_* for mimetype \", mime, \" in repr::mime2repr\")\n",
      " .     rpr <- repr::mime2repr[[mime]](obj)\n",
      " .     if (is.null(rpr)) \n",
      " .         return(NULL)\n",
      " .     prepare_content(is.raw(rpr), rpr)\n",
      " . }, error = error_handler), error = outer_handler)\n",
      "3. tryCatchList(expr, classes, parentenv, handlers)\n",
      "4. tryCatchOne(expr, names, parentenv, handlers[[1L]])\n",
      "5. doTryCatch(return(expr), name, parentenv, handler)\n",
      "6. withCallingHandlers({\n",
      " .     if (!mime %in% names(repr::mime2repr)) \n",
      " .         stop(\"No repr_* for mimetype \", mime, \" in repr::mime2repr\")\n",
      " .     rpr <- repr::mime2repr[[mime]](obj)\n",
      " .     if (is.null(rpr)) \n",
      " .         return(NULL)\n",
      " .     prepare_content(is.raw(rpr), rpr)\n",
      " . }, error = error_handler)\n",
      "7. repr::mime2repr[[mime]](obj)\n",
      "8. repr_text.default(obj)\n",
      "9. paste(capture.output(print(obj)), collapse = \"\\n\")\n",
      "10. capture.output(print(obj))\n",
      "11. evalVis(expr)\n",
      "12. withVisible(eval(expr, pf))\n",
      "13. eval(expr, pf)\n",
      "14. eval(expr, pf)\n",
      "15. print(obj)\n",
      "16. print.ggplot(obj)\n",
      "17. ggplot_build(x)\n",
      "18. ggplot_build.ggplot(x)\n",
      "19. by_layer(function(l, d) l$compute_aesthetics(d, plot))\n",
      "20. f(l = layers[[i]], d = data[[i]])\n",
      "21. l$compute_aesthetics(d, plot)\n",
      "22. f(..., self = self)\n",
      "23. scales_add_defaults(plot$scales, data, aesthetics, plot$plot_env)\n",
      "24. lapply(aesthetics[new_aesthetics], rlang::eval_tidy, data = data)\n",
      "25. FUN(X[[i]], ...)\n"
     ]
    },
    {
     "data": {},
     "metadata": {},
     "output_type": "display_data"
    },
    {
     "ename": "ERROR",
     "evalue": "Error in FUN(X[[i]], ...): object 'lda' not found\n",
     "output_type": "error",
     "traceback": [
      "Error in FUN(X[[i]], ...): object 'lda' not found\nTraceback:\n",
      "1. ggsave(\"subsaharan14_dhs.png\", width = 5, height = 5)",
      "2. grid.draw(plot)",
      "3. grid.draw.ggplot(plot)",
      "4. print(x)",
      "5. print.ggplot(x)",
      "6. ggplot_build(x)",
      "7. ggplot_build.ggplot(x)",
      "8. by_layer(function(l, d) l$compute_aesthetics(d, plot))",
      "9. f(l = layers[[i]], d = data[[i]])",
      "10. l$compute_aesthetics(d, plot)",
      "11. f(..., self = self)",
      "12. scales_add_defaults(plot$scales, data, aesthetics, plot$plot_env)",
      "13. lapply(aesthetics[new_aesthetics], rlang::eval_tidy, data = data)",
      "14. FUN(X[[i]], ...)"
     ]
    },
    {
     "data": {
      "image/png": "[encoded data removed]",
      "text/plain": [
       "plot without title"
      ]
     },
     "metadata": {},
     "output_type": "display_data"
    }
   ],
   "source": [
    "\n",
    "library(ggplot2)\n",
    "print(xtable(cbind(sort(beta.lda[1,],decreasing=TRUE)[1:10],\n",
    "sort(beta.lda[2,],decreasing=TRUE)[1:10])))\n",
    "sort(beta.lda[2,],decreasing=TRUE)[1:10]\n",
    "ggplot(indexes, aes(pca, lda)) + \n",
    "  geom_point()+theme_bw()+labs(title=\"Full Sample Estimate\")\n",
    "ggsave(\"subsaharan14_dhs.png\",width=5,height=5)\n",
    "\n",
    "cor.test(indexes$lda,indexes$pca)\n",
    "cor.test(indexes$lda,indexes$fprit)\n",
    "corr.test(indexes$lda,indexes$pchlor)\n"
   ]
  },
  {
   "cell_type": "markdown",
   "metadata": {},
   "source": [
    "#### III. Individual-Specific Index (GoM) \n",
    "\n",
    "Next, I estimate the GoM model and look at country-level aggregated data as well as individual scores. First, prepare GoM data and input parameters. "
   ]
  },
  {
   "cell_type": "code",
   "execution_count": 408,
   "metadata": {},
   "outputs": [
    {
     "data": {
      "text/html": [
       "-3810130.4151989"
      ],
      "text/latex": [
       "-3810130.4151989"
      ],
      "text/markdown": [
       "-3810130.4151989"
      ],
      "text/plain": [
       "[1] -3810130"
      ]
     },
     "metadata": {},
     "output_type": "display_data"
    }
   ],
   "source": [
    "K=2\n",
    "\n",
    "subsaharan.gom = subsaharan[,index.vars]\n",
    "subsaharan.gom[,polyt] = subsaharan.gom[,polyt] -1 \n",
    "Total = nrow(subsaharan.gom)\n",
    "J  = ncol(subsaharan.gom)\n",
    "# only one replicate for each of vars \n",
    "Rj = rep(1,J)\n",
    "#Nijr is number of ranking levels \n",
    "#All data i s multinomial so it should be array of all 1s \n",
    "Nijr = array(1,dim=c(Total,J,max(Rj)))\n",
    "\n",
    "#apply nunique to each column \n",
    "Vj = apply(subsaharan.gom,MARGIN=2,function(x) return(length(unique(x))))\n",
    "Vj[Vj==2] =1 \n",
    "alpha = rep(1,K)\n",
    "\n",
    "dist = rep(\"multinomial\",length(Vj))\n",
    "dist[Vj==1] = \"bernoulli\"\n",
    "\n",
    "obs = array(0,dim=c(Total,J,max(Rj),max(Nijr)))\n",
    "obs[, , 1, 1] = as.matrix(sapply(subsaharan.gom,as.numeric))\n",
    "\n",
    "theta <- array(0, dim=c(J,K,max(Vj)))\n",
    "\n",
    "for (j in 1:J) {\n",
    "  if(Vj[j]==1)\n",
    "    theta[j,,1] = rep(runif(1),K) \n",
    "  else \n",
    "    theta[j, ,1:Vj[j]] = gtools::rdirichlet(K,rep(1,Vj[j]))\n",
    "}\n",
    "\n",
    "initial = mixedMemModel(Total=Total,J=J,Rj=Rj,\n",
    "                        Nijr=Nijr,K=K,Vj=Vj,alpha=alpha,\n",
    "                        theta=theta,dist=dist,obs=obs)\n",
    "\n",
    "computeELBO(initial)"
   ]
  },
  {
   "cell_type": "code",
   "execution_count": 409,
   "metadata": {},
   "outputs": [
    {
     "name": "stdout",
     "output_type": "stream",
     "text": [
      "[1] \"Model Check: Ok!\"\n",
      "[1] \"<== Beginning Model Fit! ==>\"\n",
      "Iter: 25 Elbo: -1.22969e+06\n",
      "E-Step: -1.2292e+06\n",
      "M-Step: -1.22868e+06\n",
      "Iter: 50 Elbo: -1.10744e+06\n",
      "E-Step: -1.10735e+06\n",
      "M-Step: -1.10727e+06\n",
      "Iter: 75 Elbo: -1.09657e+06\n",
      "E-Step: -1.09656e+06\n",
      "M-Step: -1.09656e+06\n",
      "Fit Complete! Elbo: -1.09651e+06 Iter: 89\n"
     ]
    },
    {
     "data": {
      "text/html": [
       "-1096506.40946775"
      ],
      "text/latex": [
       "-1096506.40946775"
      ],
      "text/markdown": [
       "-1096506.40946775"
      ],
      "text/plain": [
       "[1] -1096506"
      ]
     },
     "metadata": {},
     "output_type": "display_data"
    },
    {
     "data": {
      "text/html": [
       "<strong>Var 1:</strong> 2193279.94629269"
      ],
      "text/latex": [
       "\\textbf{Var 1:} 2193279.94629269"
      ],
      "text/markdown": [
       "**Var 1:** 2193279.94629269"
      ],
      "text/plain": [
       "  Var 1 \n",
       "2193280 "
      ]
     },
     "metadata": {},
     "output_type": "display_data"
    }
   ],
   "source": [
    "out = mmVarFit(initial,printMod=25)\n",
    "computeELBO(out)\n",
    "computeBIC(out)\n",
    "phis = as.data.frame(out$phi)"
   ]
  },
  {
   "cell_type": "code",
   "execution_count": 410,
   "metadata": {},
   "outputs": [
    {
     "name": "stdout",
     "output_type": "stream",
     "text": [
      "            [,1]\n",
      "Group 1 2.092935\n",
      "Group 2 4.000000\n",
      "            [,1]\n",
      "Group 1 1.752166\n",
      "Group 2 4.832322\n",
      "            [,1]\n",
      "Group 1 1.000000\n",
      "Group 2 3.084581\n",
      "             [,1]\n",
      "Group 1 0.2153744\n",
      "Group 2 1.0000000\n",
      "             [,1]\n",
      "Group 1 0.5288076\n",
      "Group 2 0.8618290\n",
      "                [,1]\n",
      "Group 1 8.987775e-12\n",
      "Group 2 1.000000e+00\n",
      "                [,1]\n",
      "Group 1 1.000000e-16\n",
      "Group 2 6.518966e-01\n",
      "                [,1]\n",
      "Group 1 3.794772e-11\n",
      "Group 2 2.241027e-01\n",
      "                [,1]\n",
      "Group 1 1.000000e-16\n",
      "Group 2 1.278741e-01\n",
      "             [,1]\n",
      "Group 1 0.2788077\n",
      "Group 2 1.0000000\n"
     ]
    },
    {
     "data": {
      "image/png": "[encoded data removed]",
      "text/plain": [
       "Plot with title “Estimated Theta”"
      ]
     },
     "metadata": {},
     "output_type": "display_data"
    }
   ],
   "source": [
    "model.gom <- out\n",
    "theta.gom = t(t(phis)/colSums(t(phis)))\n",
    "#head(theta.gom)\n",
    "\n",
    "beta.gom <- out$theta\n",
    "\n",
    "subsaharan$gom <- theta.gom[,1]\n",
    "\n",
    "plot(out,type=\"theta\",varNames=index.vars)\n",
    "#head(subsaharan)\n",
    "#cor.test(subsaharan$gom,subsaharan$pca)\n",
    "\n",
    "\n",
    "for (j in 1:length(index.vars)) {\n",
    "    print(as.matrix(beta.gom[j,,])%*%matrix (1:5, nrow = 5, ncol = 1))\n",
    "}\n",
    "\n"
   ]
  },
  {
   "cell_type": "markdown",
   "metadata": {},
   "source": [
    "#### IV. Multinomial Mixture Model\n",
    "\n",
    "For the Multinomial Mixture Model, I also use data for Kenya only. "
   ]
  },
  {
   "cell_type": "code",
   "execution_count": 400,
   "metadata": {},
   "outputs": [
    {
     "name": "stdout",
     "output_type": "stream",
     "text": [
      "Formal class 'DMN' [package \"DirichletMultinomial\"] with 4 slots\n",
      "  ..@ goodnessOfFit: Named num [1:5] 38086 -1717 31957 42701 43821\n",
      "  .. ..- attr(*, \"names\")= chr [1:5] \"NLE\" \"LogDet\" \"Laplace\" \"BIC\" ...\n",
      "  ..@ group        : num [1:5, 1:2] 0 1 1 1 1 1 0 0 0 0\n",
      "  .. ..- attr(*, \"dimnames\")=List of 2\n",
      "  .. .. ..$ : chr [1:5] \"CO\" \"GY\" \"HT\" \"NI\" ...\n",
      "  .. .. ..$ : NULL\n",
      "  ..@ mixture      :List of 1\n",
      "  .. ..$ Weight: num [1:2] 0.8 0.2\n",
      "  ..@ fit          :List of 3\n",
      "  .. ..$ Lower   : num [1:2867, 1:2] 3.9043 0.6153 0.0122 0.0527 0.1279 ...\n",
      "  .. .. ..- attr(*, \"dimnames\")=List of 2\n",
      "  .. .. .. ..$ : chr [1:2867] \"1110000000\" \"1110000001\" \"1110000010\" \"1110000100\" ...\n",
      "  .. .. .. ..$ : NULL\n",
      "  .. ..$ Estimate: num [1:2867, 1:2] 7.8423 1.6324 0.0804 0.2041 0.3815 ...\n",
      "  .. .. ..- attr(*, \"dimnames\")=List of 2\n",
      "  .. .. .. ..$ : chr [1:2867] \"1110000000\" \"1110000001\" \"1110000010\" \"1110000100\" ...\n",
      "  .. .. .. ..$ : NULL\n",
      "  .. ..$ Upper   : num [1:2867, 1:2] 15.752 4.331 0.529 0.79 1.138 ...\n",
      "  .. .. ..- attr(*, \"dimnames\")=List of 2\n",
      "  .. .. .. ..$ : chr [1:2867] \"1110000000\" \"1110000001\" \"1110000010\" \"1110000100\" ...\n",
      "  .. .. .. ..$ : NULL\n"
     ]
    }
   ],
   "source": [
    "library(DirichletMultinomial) \n",
    "\n",
    "model.mmm <- dmn(as.matrix(subsaharan.counts), 2, verbose = FALSE, seed = 100)\n",
    "\n",
    "str(model.mmm)\n"
   ]
  },
  {
   "cell_type": "code",
   "execution_count": 401,
   "metadata": {},
   "outputs": [
    {
     "name": "stdout",
     "output_type": "stream",
     "text": [
      "% latex table generated in R 3.5.1 by xtable 1.8-3 package\n",
      "% Mon Feb 25 20:27:02 2019\n",
      "\\begin{table}[ht]\n",
      "\\centering\n",
      "\\begin{tabular}{rrr}\n",
      "  \\hline\n",
      " & 1 & 2 \\\\ \n",
      "  \\hline\n",
      "1110000000 & 0.01 & 2.19 \\\\ \n",
      "  4541111011 & 0.01 & 0.80 \\\\ \n",
      "  4541111001 & 0.01 & 0.43 \\\\ \n",
      "  4331111001 & 0.01 & 0.37 \\\\ \n",
      "  1210000000 & 0.01 & 0.18 \\\\ \n",
      "  3110000000 & 0.00 & 0.09 \\\\ \n",
      "  4231110001 & 0.00 & 0.08 \\\\ \n",
      "  4531010001 & 0.00 & 0.06 \\\\ \n",
      "  4110000000 & 0.00 & 0.06 \\\\ \n",
      "  1110100001 & 0.00 & 0.05 \\\\ \n",
      "   \\hline\n",
      "\\end{tabular}\n",
      "\\end{table}\n"
     ]
    },
    {
     "data": {
      "text/html": [
       "<dl class=dl-horizontal>\n",
       "\t<dt>4531111001</dt>\n",
       "\t\t<dd>2.18757245341195</dd>\n",
       "\t<dt>4531111101</dt>\n",
       "\t\t<dd>0.799418981636079</dd>\n",
       "\t<dt>4531111011</dt>\n",
       "\t\t<dd>0.426129979905297</dd>\n",
       "\t<dt>4531110001</dt>\n",
       "\t\t<dd>0.369187321682693</dd>\n",
       "\t<dt>4531111111</dt>\n",
       "\t\t<dd>0.178174654162738</dd>\n",
       "\t<dt>1531111001</dt>\n",
       "\t\t<dd>0.0948689772165545</dd>\n",
       "\t<dt>4531000001</dt>\n",
       "\t\t<dd>0.0782977527221432</dd>\n",
       "\t<dt>4531011001</dt>\n",
       "\t\t<dd>0.0569950531423754</dd>\n",
       "\t<dt>4431111001</dt>\n",
       "\t\t<dd>0.0563024958017875</dd>\n",
       "\t<dt>1531111101</dt>\n",
       "\t\t<dd>0.0547963114655168</dd>\n",
       "</dl>\n"
      ],
      "text/latex": [
       "\\begin{description*}\n",
       "\\item[4531111001] 2.18757245341195\n",
       "\\item[4531111101] 0.799418981636079\n",
       "\\item[4531111011] 0.426129979905297\n",
       "\\item[4531110001] 0.369187321682693\n",
       "\\item[4531111111] 0.178174654162738\n",
       "\\item[1531111001] 0.0948689772165545\n",
       "\\item[4531000001] 0.0782977527221432\n",
       "\\item[4531011001] 0.0569950531423754\n",
       "\\item[4431111001] 0.0563024958017875\n",
       "\\item[1531111101] 0.0547963114655168\n",
       "\\end{description*}\n"
      ],
      "text/markdown": [
       "4531111001\n",
       ":   2.187572453411954531111101\n",
       ":   0.7994189816360794531111011\n",
       ":   0.4261299799052974531110001\n",
       ":   0.3691873216826934531111111\n",
       ":   0.1781746541627381531111001\n",
       ":   0.09486897721655454531000001\n",
       ":   0.07829775272214324531011001\n",
       ":   0.05699505314237544431111001\n",
       ":   0.05630249580178751531111101\n",
       ":   0.0547963114655168\n",
       "\n"
      ],
      "text/plain": [
       "4531111001 4531111101 4531111011 4531110001 4531111111 1531111001 4531000001 \n",
       "2.18757245 0.79941898 0.42612998 0.36918732 0.17817465 0.09486898 0.07829775 \n",
       "4531011001 4431111001 1531111101 \n",
       "0.05699505 0.05630250 0.05479631 "
      ]
     },
     "metadata": {},
     "output_type": "display_data"
    },
    {
     "name": "stdout",
     "output_type": "stream",
     "text": [
      "$Weight\n",
      "[1] 0.8 0.2\n",
      "\n"
     ]
    },
    {
     "data": {
      "text/html": [
       "<table>\n",
       "<tbody>\n",
       "\t<tr><th scope=row>CO</th><td>0</td><td>1</td></tr>\n",
       "\t<tr><th scope=row>GY</th><td>1</td><td>0</td></tr>\n",
       "\t<tr><th scope=row>HT</th><td>1</td><td>0</td></tr>\n",
       "\t<tr><th scope=row>NI</th><td>1</td><td>0</td></tr>\n",
       "\t<tr><th scope=row>PE</th><td>1</td><td>0</td></tr>\n",
       "</tbody>\n",
       "</table>\n"
      ],
      "text/latex": [
       "\\begin{tabular}{r|ll}\n",
       "\tCO & 0 & 1\\\\\n",
       "\tGY & 1 & 0\\\\\n",
       "\tHT & 1 & 0\\\\\n",
       "\tNI & 1 & 0\\\\\n",
       "\tPE & 1 & 0\\\\\n",
       "\\end{tabular}\n"
      ],
      "text/markdown": [
       "\n",
       "| CO | 0 | 1 | \n",
       "| GY | 1 | 0 | \n",
       "| HT | 1 | 0 | \n",
       "| NI | 1 | 0 | \n",
       "| PE | 1 | 0 | \n",
       "\n",
       "\n"
      ],
      "text/plain": [
       "   [,1] [,2]\n",
       "CO 0    1   \n",
       "GY 1    0   \n",
       "HT 1    0   \n",
       "NI 1    0   \n",
       "PE 1    0   "
      ]
     },
     "metadata": {},
     "output_type": "display_data"
    }
   ],
   "source": [
    "theta.mmm <- model.mmm@mixture\n",
    "\n",
    "beta.mmm<-model.mmm@fit$Estimate\n",
    "\n",
    "beta.mmm <- beta.mmm/colSums(beta.mmm)\n",
    "\n",
    "beta.mmm <- t(beta.mmm)\n",
    "print(xtable(cbind(sort(beta.mmm[1,],decreasing=TRUE)[1:10],sort(beta.mmm[2,],decreasing=TRUE)[1:10])))\n",
    "sort(beta.mmm[2,],decreasing=TRUE)[1:10]\n",
    "\n",
    "print(theta.mmm)\n",
    "\n",
    "model.mmm@group"
   ]
  },
  {
   "cell_type": "markdown",
   "metadata": {},
   "source": [
    "#### V. Figures and Tables\n",
    "\n",
    "Now that estimation and calculations are done, save figures and tables for use in the paper. First, the per-country results for each of the indexes. "
   ]
  },
  {
   "cell_type": "code",
   "execution_count": 402,
   "metadata": {},
   "outputs": [
    {
     "data": {
      "text/html": [
       "<table>\n",
       "<thead><tr><th scope=col>cname</th><th scope=col>water_qual</th><th scope=col>toilet_qual</th><th scope=col>floor_qual</th><th scope=col>electric</th><th scope=col>radio</th><th scope=col>tv</th><th scope=col>fridge</th><th scope=col>motorbike</th><th scope=col>car</th><th scope=col>phone</th></tr></thead>\n",
       "<tbody>\n",
       "\t<tr><td>CO  </td><td>3.50</td><td>4.66</td><td>2.86</td><td>0.95</td><td>0.72</td><td>0.87</td><td>0.71</td><td>0.22</td><td>0.10</td><td>0.90</td></tr>\n",
       "\t<tr><td>GY  </td><td>2.78</td><td>3.95</td><td>2.92</td><td>0.71</td><td>0.55</td><td>0.73</td><td>0.55</td><td>0.09</td><td>0.14</td><td>0.80</td></tr>\n",
       "\t<tr><td>HT  </td><td>2.52</td><td>2.46</td><td>2.15</td><td>0.30</td><td>0.51</td><td>0.23</td><td>0.08</td><td>0.07</td><td>0.04</td><td>0.75</td></tr>\n",
       "\t<tr><td>NI  </td><td>3.24</td><td>1.75</td><td>1.52</td><td>0.23</td><td>0.53</td><td>0.19</td><td>0.06</td><td>0.15</td><td>0.04</td><td>0.56</td></tr>\n",
       "\t<tr><td>PE  </td><td>3.45</td><td>3.44</td><td>2.24</td><td>0.82</td><td>0.84</td><td>0.73</td><td>0.33</td><td>0.13</td><td>0.09</td><td>0.73</td></tr>\n",
       "</tbody>\n",
       "</table>\n"
      ],
      "text/latex": [
       "\\begin{tabular}{r|lllllllllll}\n",
       " cname & water\\_qual & toilet\\_qual & floor\\_qual & electric & radio & tv & fridge & motorbike & car & phone\\\\\n",
       "\\hline\n",
       "\t CO   & 3.50 & 4.66 & 2.86 & 0.95 & 0.72 & 0.87 & 0.71 & 0.22 & 0.10 & 0.90\\\\\n",
       "\t GY   & 2.78 & 3.95 & 2.92 & 0.71 & 0.55 & 0.73 & 0.55 & 0.09 & 0.14 & 0.80\\\\\n",
       "\t HT   & 2.52 & 2.46 & 2.15 & 0.30 & 0.51 & 0.23 & 0.08 & 0.07 & 0.04 & 0.75\\\\\n",
       "\t NI   & 3.24 & 1.75 & 1.52 & 0.23 & 0.53 & 0.19 & 0.06 & 0.15 & 0.04 & 0.56\\\\\n",
       "\t PE   & 3.45 & 3.44 & 2.24 & 0.82 & 0.84 & 0.73 & 0.33 & 0.13 & 0.09 & 0.73\\\\\n",
       "\\end{tabular}\n"
      ],
      "text/markdown": [
       "\n",
       "cname | water_qual | toilet_qual | floor_qual | electric | radio | tv | fridge | motorbike | car | phone | \n",
       "|---|---|---|---|---|\n",
       "| CO   | 3.50 | 4.66 | 2.86 | 0.95 | 0.72 | 0.87 | 0.71 | 0.22 | 0.10 | 0.90 | \n",
       "| GY   | 2.78 | 3.95 | 2.92 | 0.71 | 0.55 | 0.73 | 0.55 | 0.09 | 0.14 | 0.80 | \n",
       "| HT   | 2.52 | 2.46 | 2.15 | 0.30 | 0.51 | 0.23 | 0.08 | 0.07 | 0.04 | 0.75 | \n",
       "| NI   | 3.24 | 1.75 | 1.52 | 0.23 | 0.53 | 0.19 | 0.06 | 0.15 | 0.04 | 0.56 | \n",
       "| PE   | 3.45 | 3.44 | 2.24 | 0.82 | 0.84 | 0.73 | 0.33 | 0.13 | 0.09 | 0.73 | \n",
       "\n",
       "\n"
      ],
      "text/plain": [
       "  cname water_qual toilet_qual floor_qual electric radio tv   fridge motorbike\n",
       "1 CO    3.50       4.66        2.86       0.95     0.72  0.87 0.71   0.22     \n",
       "2 GY    2.78       3.95        2.92       0.71     0.55  0.73 0.55   0.09     \n",
       "3 HT    2.52       2.46        2.15       0.30     0.51  0.23 0.08   0.07     \n",
       "4 NI    3.24       1.75        1.52       0.23     0.53  0.19 0.06   0.15     \n",
       "5 PE    3.45       3.44        2.24       0.82     0.84  0.73 0.33   0.13     \n",
       "  car  phone\n",
       "1 0.10 0.90 \n",
       "2 0.14 0.80 \n",
       "3 0.04 0.75 \n",
       "4 0.04 0.56 \n",
       "5 0.09 0.73 "
      ]
     },
     "metadata": {},
     "output_type": "display_data"
    },
    {
     "name": "stdout",
     "output_type": "stream",
     "text": [
      "% latex table generated in R 3.5.1 by xtable 1.8-3 package\n",
      "% Mon Feb 25 20:27:03 2019\n",
      "\\begin{table}[ht]\n",
      "\\centering\n",
      "\\begin{tabular}{rlrrrrrrrrrr}\n",
      "  \\hline\n",
      " & cname & water\\_qual & toilet\\_qual & floor\\_qual & electric & radio & tv & fridge & motorbike & car & phone \\\\ \n",
      "  \\hline\n",
      "1 & CO & 3.50 & 4.66 & 2.86 & 0.95 & 0.72 & 0.87 & 0.71 & 0.22 & 0.10 & 0.90 \\\\ \n",
      "  2 & GY & 2.78 & 3.95 & 2.92 & 0.71 & 0.55 & 0.73 & 0.55 & 0.09 & 0.14 & 0.80 \\\\ \n",
      "  3 & HT & 2.52 & 2.46 & 2.15 & 0.30 & 0.51 & 0.23 & 0.08 & 0.07 & 0.04 & 0.75 \\\\ \n",
      "  4 & NI & 3.24 & 1.75 & 1.52 & 0.23 & 0.53 & 0.19 & 0.06 & 0.15 & 0.04 & 0.56 \\\\ \n",
      "  5 & PE & 3.45 & 3.44 & 2.24 & 0.82 & 0.84 & 0.73 & 0.33 & 0.13 & 0.09 & 0.73 \\\\ \n",
      "   \\hline\n",
      "\\end{tabular}\n",
      "\\end{table}\n"
     ]
    }
   ],
   "source": [
    "library(xtable)\n",
    "summary.stat <- subsaharan[,append(\"cname\",index.vars)] %>% \n",
    "                group_by(cname) %>%\n",
    "                summarize_all(.funs=mean)  %>%\n",
    "                mutate_at(index.vars,round,2)\n",
    "\n",
    "summary.stat.scale <- apply(summary.stat[,index.vars],MARGIN=2,FUN=scale)\n",
    "\n",
    "summary.stat\n",
    "print(xtable(summary.stat))"
   ]
  },
  {
   "cell_type": "code",
   "execution_count": 412,
   "metadata": {},
   "outputs": [
    {
     "data": {
      "text/html": [
       "<table>\n",
       "<thead><tr><th scope=col>cname</th><th scope=col>pca</th><th scope=col>fprit</th><th scope=col>pchlor</th><th scope=col>zscore</th><th scope=col>gom</th><th scope=col>lda</th><th scope=col>lca</th></tr></thead>\n",
       "<tbody>\n",
       "\t<tr><td>CO   </td><td> 1.10</td><td> 1.20</td><td> 0.62</td><td> 1.02</td><td>0.86 </td><td>1.00 </td><td>1    </td></tr>\n",
       "\t<tr><td>GY   </td><td> 0.13</td><td>-0.28</td><td> 0.05</td><td> 0.30</td><td>0.71 </td><td>0.55 </td><td>0    </td></tr>\n",
       "\t<tr><td>HT   </td><td>-1.87</td><td>-2.42</td><td>-1.16</td><td>-0.81</td><td>0.35 </td><td>0.01 </td><td>0    </td></tr>\n",
       "\t<tr><td>NI   </td><td>-2.33</td><td>-2.48</td><td>-1.30</td><td>-0.86</td><td>0.27 </td><td>0.01 </td><td>0    </td></tr>\n",
       "\t<tr><td>PE   </td><td>-0.08</td><td>-0.03</td><td>-0.03</td><td> 0.35</td><td>0.66 </td><td>0.27 </td><td>0    </td></tr>\n",
       "</tbody>\n",
       "</table>\n"
      ],
      "text/latex": [
       "\\begin{tabular}{r|llllllll}\n",
       " cname & pca & fprit & pchlor & zscore & gom & lda & lca\\\\\n",
       "\\hline\n",
       "\t CO    &  1.10 &  1.20 &  0.62 &  1.02 & 0.86  & 1.00  & 1    \\\\\n",
       "\t GY    &  0.13 & -0.28 &  0.05 &  0.30 & 0.71  & 0.55  & 0    \\\\\n",
       "\t HT    & -1.87 & -2.42 & -1.16 & -0.81 & 0.35  & 0.01  & 0    \\\\\n",
       "\t NI    & -2.33 & -2.48 & -1.30 & -0.86 & 0.27  & 0.01  & 0    \\\\\n",
       "\t PE    & -0.08 & -0.03 & -0.03 &  0.35 & 0.66  & 0.27  & 0    \\\\\n",
       "\\end{tabular}\n"
      ],
      "text/markdown": [
       "\n",
       "cname | pca | fprit | pchlor | zscore | gom | lda | lca | \n",
       "|---|---|---|---|---|\n",
       "| CO    |  1.10 |  1.20 |  0.62 |  1.02 | 0.86  | 1.00  | 1     | \n",
       "| GY    |  0.13 | -0.28 |  0.05 |  0.30 | 0.71  | 0.55  | 0     | \n",
       "| HT    | -1.87 | -2.42 | -1.16 | -0.81 | 0.35  | 0.01  | 0     | \n",
       "| NI    | -2.33 | -2.48 | -1.30 | -0.86 | 0.27  | 0.01  | 0     | \n",
       "| PE    | -0.08 | -0.03 | -0.03 |  0.35 | 0.66  | 0.27  | 0     | \n",
       "\n",
       "\n"
      ],
      "text/plain": [
       "  cname pca   fprit pchlor zscore gom  lda  lca\n",
       "1 CO     1.10  1.20  0.62   1.02  0.86 1.00 1  \n",
       "2 GY     0.13 -0.28  0.05   0.30  0.71 0.55 0  \n",
       "3 HT    -1.87 -2.42 -1.16  -0.81  0.35 0.01 0  \n",
       "4 NI    -2.33 -2.48 -1.30  -0.86  0.27 0.01 0  \n",
       "5 PE    -0.08 -0.03 -0.03   0.35  0.66 0.27 0  "
      ]
     },
     "metadata": {},
     "output_type": "display_data"
    },
    {
     "name": "stdout",
     "output_type": "stream",
     "text": [
      "% latex table generated in R 3.5.1 by xtable 1.8-3 package\n",
      "% Mon Feb 25 20:56:20 2019\n",
      "\\begin{table}[ht]\n",
      "\\centering\n",
      "\\begin{tabular}{rlrrrrrrr}\n",
      "  \\hline\n",
      " & cname & pca & fprit & pchlor & zscore & gom & lda & lca \\\\ \n",
      "  \\hline\n",
      "1 & CO & 1.10 & 1.20 & 0.62 & 1.02 & 0.86 & 1.00 & 1.00 \\\\ \n",
      "  2 & GY & 0.13 & -0.28 & 0.05 & 0.30 & 0.71 & 0.55 & 0.00 \\\\ \n",
      "  3 & HT & -1.87 & -2.42 & -1.16 & -0.81 & 0.35 & 0.01 & 0.00 \\\\ \n",
      "  4 & NI & -2.33 & -2.48 & -1.30 & -0.86 & 0.27 & 0.01 & 0.00 \\\\ \n",
      "  5 & PE & -0.08 & -0.03 & -0.03 & 0.35 & 0.66 & 0.27 & 0.00 \\\\ \n",
      "   \\hline\n",
      "\\end{tabular}\n",
      "\\end{table}\n"
     ]
    }
   ],
   "source": [
    "\n",
    "indexes <- subsaharan %>%\n",
    "            group_by(cname) %>%\n",
    "            summarize(pca=-mean(pca),fprit=mean(fprit),\n",
    "                      pchlor=mean(pchlor),\n",
    "                      gom=1-mean(gom)) \n",
    "\n",
    "indexes$lca <- 1-model.mmm@group[,1]\n",
    "indexes$lda <- theta.lda[,2]\n",
    "indexes$zscore <- rowMeans(summary.stat.scale)\n",
    "index.names <- c(\"cname\",\"pca\",\"fprit\",\"pchlor\",\"zscore\",\"gom\",\"lda\",\"lca\")\n",
    "indexes = indexes[,index.names]\n",
    "indexes <-  indexes %>% \n",
    "            mutate_at(index.names[2:length(index.names)],round,2)\n",
    "indexes\n",
    "print(xtable(indexes))"
   ]
  },
  {
   "cell_type": "code",
   "execution_count": 415,
   "metadata": {},
   "outputs": [
    {
     "name": "stderr",
     "output_type": "stream",
     "text": [
      "`stat_bin()` using `bins = 30`. Pick better value with `binwidth`.\n",
      "`stat_bin()` using `bins = 30`. Pick better value with `binwidth`.\n",
      "`stat_bin()` using `bins = 30`. Pick better value with `binwidth`.\n",
      "`stat_bin()` using `bins = 30`. Pick better value with `binwidth`.\n"
     ]
    },
    {
     "data": {
      "text/html": [
       "<strong>pdf:</strong> 2"
      ],
      "text/latex": [
       "\\textbf{pdf:} 2"
      ],
      "text/markdown": [
       "**pdf:** 2"
      ],
      "text/plain": [
       "pdf \n",
       "  2 "
      ]
     },
     "metadata": {},
     "output_type": "display_data"
    }
   ],
   "source": [
    "#hist(theta.gom)\n",
    "library(gridExtra)\n",
    "p1<- qplot(subsaharan[subsaharan$cname==\"NI\",\"pca\"])+theme_bw()+xlab(\"Nicaragua, PCA\")\n",
    "p2<-qplot(subsaharan[subsaharan$cname==\"NI\",\"gom\"])+theme_bw() + xlab(\"Nicaragua, GoM\")\n",
    "p3<- qplot(subsaharan[subsaharan$cname==\"GY\",\"pca\"])+theme_bw() + xlab(\"Guyana, PCA\")\n",
    "p4<-qplot(subsaharan[subsaharan$cname==\"GY\",\"gom\"])+theme_bw() + xlab(\"Guyana ,GoM\")\n",
    "pdf(\"histgom\", width = 8, height = 5) # Open a new pdf file\n",
    "grid.arrange(p1, p2,p3,p4, nrow = 2)\n",
    "dev.off()\n"
   ]
  },
  {
   "cell_type": "code",
   "execution_count": 348,
   "metadata": {},
   "outputs": [
    {
     "data": {
      "text/html": [
       "<table>\n",
       "<thead><tr><th scope=col>year</th><th scope=col>cname</th><th scope=col>index</th><th scope=col>hhwt</th><th scope=col>water_qual</th><th scope=col>toilet_qual</th><th scope=col>floor_qual</th><th scope=col>electric</th><th scope=col>radio</th><th scope=col>tv</th><th scope=col>fridge</th><th scope=col>motorbike</th><th scope=col>car</th><th scope=col>phone</th><th scope=col>pca</th><th scope=col>pcorr</th><th scope=col>fprit</th><th scope=col>pchlor</th><th scope=col>all</th><th scope=col>gom</th></tr></thead>\n",
       "<tbody>\n",
       "\t<tr><td>2014        </td><td>BF          </td><td>-0.5871246  </td><td>0.709092    </td><td>2           </td><td>1           </td><td>3           </td><td>0           </td><td>1           </td><td>0           </td><td>0           </td><td>1           </td><td>0           </td><td>1           </td><td>-0.450117113</td><td> 0.001068395</td><td>-0.3258698  </td><td> 0.001068395</td><td>2130100101  </td><td>0.494860672 </td></tr>\n",
       "\t<tr><td>2014        </td><td>BF          </td><td>-0.4725632  </td><td>0.901008    </td><td>2           </td><td>5           </td><td>1           </td><td>0           </td><td>1           </td><td>0           </td><td>0           </td><td>1           </td><td>0           </td><td>1           </td><td> 0.005492099</td><td>-0.281730934</td><td> 0.2317052  </td><td>-0.281730934</td><td>2510100101  </td><td>0.997525403 </td></tr>\n",
       "\t<tr><td>2014        </td><td>BF          </td><td>-0.8666229  </td><td>0.979519    </td><td>3           </td><td>1           </td><td>1           </td><td>0           </td><td>1           </td><td>0           </td><td>0           </td><td>1           </td><td>0           </td><td>1           </td><td>-0.918035953</td><td>-0.149877046</td><td>-0.8077828  </td><td>-0.149877046</td><td>3110100101  </td><td>0.004416954 </td></tr>\n",
       "\t<tr><td>2014        </td><td>BF          </td><td>-0.4640547  </td><td>0.372863    </td><td>2           </td><td>2           </td><td>3           </td><td>0           </td><td>1           </td><td>0           </td><td>0           </td><td>1           </td><td>0           </td><td>1           </td><td>-0.159309682</td><td>-0.013657300</td><td>-0.7738055  </td><td>-0.013657300</td><td>2230100101  </td><td>0.997525403 </td></tr>\n",
       "\t<tr><td>2014        </td><td>BF          </td><td>-0.5871246  </td><td>0.851500    </td><td>2           </td><td>1           </td><td>3           </td><td>0           </td><td>1           </td><td>0           </td><td>0           </td><td>1           </td><td>0           </td><td>1           </td><td>-0.450117113</td><td> 0.001068395</td><td>-0.3258698  </td><td> 0.001068395</td><td>2130100101  </td><td>0.494860672 </td></tr>\n",
       "\t<tr><td>2014        </td><td>BF          </td><td>-0.8666229  </td><td>1.098805    </td><td>3           </td><td>1           </td><td>1           </td><td>0           </td><td>1           </td><td>0           </td><td>0           </td><td>0           </td><td>0           </td><td>1           </td><td>-1.182158207</td><td>-0.356424110</td><td>-1.0410623  </td><td>-0.356424110</td><td>3110100001  </td><td>0.004416954 </td></tr>\n",
       "</tbody>\n",
       "</table>\n"
      ],
      "text/latex": [
       "\\begin{tabular}{r|llllllllllllllllllll}\n",
       " year & cname & index & hhwt & water\\_qual & toilet\\_qual & floor\\_qual & electric & radio & tv & fridge & motorbike & car & phone & pca & pcorr & fprit & pchlor & all & gom\\\\\n",
       "\\hline\n",
       "\t 2014         & BF           & -0.5871246   & 0.709092     & 2            & 1            & 3            & 0            & 1            & 0            & 0            & 1            & 0            & 1            & -0.450117113 &  0.001068395 & -0.3258698   &  0.001068395 & 2130100101   & 0.494860672 \\\\\n",
       "\t 2014         & BF           & -0.4725632   & 0.901008     & 2            & 5            & 1            & 0            & 1            & 0            & 0            & 1            & 0            & 1            &  0.005492099 & -0.281730934 &  0.2317052   & -0.281730934 & 2510100101   & 0.997525403 \\\\\n",
       "\t 2014         & BF           & -0.8666229   & 0.979519     & 3            & 1            & 1            & 0            & 1            & 0            & 0            & 1            & 0            & 1            & -0.918035953 & -0.149877046 & -0.8077828   & -0.149877046 & 3110100101   & 0.004416954 \\\\\n",
       "\t 2014         & BF           & -0.4640547   & 0.372863     & 2            & 2            & 3            & 0            & 1            & 0            & 0            & 1            & 0            & 1            & -0.159309682 & -0.013657300 & -0.7738055   & -0.013657300 & 2230100101   & 0.997525403 \\\\\n",
       "\t 2014         & BF           & -0.5871246   & 0.851500     & 2            & 1            & 3            & 0            & 1            & 0            & 0            & 1            & 0            & 1            & -0.450117113 &  0.001068395 & -0.3258698   &  0.001068395 & 2130100101   & 0.494860672 \\\\\n",
       "\t 2014         & BF           & -0.8666229   & 1.098805     & 3            & 1            & 1            & 0            & 1            & 0            & 0            & 0            & 0            & 1            & -1.182158207 & -0.356424110 & -1.0410623   & -0.356424110 & 3110100001   & 0.004416954 \\\\\n",
       "\\end{tabular}\n"
      ],
      "text/markdown": [
       "\n",
       "year | cname | index | hhwt | water_qual | toilet_qual | floor_qual | electric | radio | tv | fridge | motorbike | car | phone | pca | pcorr | fprit | pchlor | all | gom | \n",
       "|---|---|---|---|---|---|\n",
       "| 2014         | BF           | -0.5871246   | 0.709092     | 2            | 1            | 3            | 0            | 1            | 0            | 0            | 1            | 0            | 1            | -0.450117113 |  0.001068395 | -0.3258698   |  0.001068395 | 2130100101   | 0.494860672  | \n",
       "| 2014         | BF           | -0.4725632   | 0.901008     | 2            | 5            | 1            | 0            | 1            | 0            | 0            | 1            | 0            | 1            |  0.005492099 | -0.281730934 |  0.2317052   | -0.281730934 | 2510100101   | 0.997525403  | \n",
       "| 2014         | BF           | -0.8666229   | 0.979519     | 3            | 1            | 1            | 0            | 1            | 0            | 0            | 1            | 0            | 1            | -0.918035953 | -0.149877046 | -0.8077828   | -0.149877046 | 3110100101   | 0.004416954  | \n",
       "| 2014         | BF           | -0.4640547   | 0.372863     | 2            | 2            | 3            | 0            | 1            | 0            | 0            | 1            | 0            | 1            | -0.159309682 | -0.013657300 | -0.7738055   | -0.013657300 | 2230100101   | 0.997525403  | \n",
       "| 2014         | BF           | -0.5871246   | 0.851500     | 2            | 1            | 3            | 0            | 1            | 0            | 0            | 1            | 0            | 1            | -0.450117113 |  0.001068395 | -0.3258698   |  0.001068395 | 2130100101   | 0.494860672  | \n",
       "| 2014         | BF           | -0.8666229   | 1.098805     | 3            | 1            | 1            | 0            | 1            | 0            | 0            | 0            | 0            | 1            | -1.182158207 | -0.356424110 | -1.0410623   | -0.356424110 | 3110100001   | 0.004416954  | \n",
       "\n",
       "\n"
      ],
      "text/plain": [
       "  year cname index      hhwt     water_qual toilet_qual floor_qual electric\n",
       "1 2014 BF    -0.5871246 0.709092 2          1           3          0       \n",
       "2 2014 BF    -0.4725632 0.901008 2          5           1          0       \n",
       "3 2014 BF    -0.8666229 0.979519 3          1           1          0       \n",
       "4 2014 BF    -0.4640547 0.372863 2          2           3          0       \n",
       "5 2014 BF    -0.5871246 0.851500 2          1           3          0       \n",
       "6 2014 BF    -0.8666229 1.098805 3          1           1          0       \n",
       "  radio tv fridge motorbike car phone pca          pcorr        fprit     \n",
       "1 1     0  0      1         0   1     -0.450117113  0.001068395 -0.3258698\n",
       "2 1     0  0      1         0   1      0.005492099 -0.281730934  0.2317052\n",
       "3 1     0  0      1         0   1     -0.918035953 -0.149877046 -0.8077828\n",
       "4 1     0  0      1         0   1     -0.159309682 -0.013657300 -0.7738055\n",
       "5 1     0  0      1         0   1     -0.450117113  0.001068395 -0.3258698\n",
       "6 1     0  0      0         0   1     -1.182158207 -0.356424110 -1.0410623\n",
       "  pchlor       all        gom        \n",
       "1  0.001068395 2130100101 0.494860672\n",
       "2 -0.281730934 2510100101 0.997525403\n",
       "3 -0.149877046 3110100101 0.004416954\n",
       "4 -0.013657300 2230100101 0.997525403\n",
       "5  0.001068395 2130100101 0.494860672\n",
       "6 -0.356424110 3110100001 0.004416954"
      ]
     },
     "metadata": {},
     "output_type": "display_data"
    }
   ],
   "source": [
    "head(subsaharan)"
   ]
  },
  {
   "cell_type": "code",
   "execution_count": null,
   "metadata": {},
   "outputs": [],
   "source": []
  }
 ],
 "metadata": {
  "kernelspec": {
   "display_name": "R",
   "language": "R",
   "name": "ir"
  },
  "language_info": {
   "codemirror_mode": "r",
   "file_extension": ".r",
   "mimetype": "text/x-r-source",
   "name": "R",
   "pygments_lexer": "r",
   "version": "3.5.1"
  }
 },
 "nbformat": 4,
 "nbformat_minor": 2
}
