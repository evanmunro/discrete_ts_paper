{
 "cells": [
  {
   "cell_type": "code",
   "execution_count": 6,
   "metadata": {},
   "outputs": [
    {
     "name": "stderr",
     "output_type": "stream",
     "text": [
      "┌ Info: Precompiling StatsPlots [f3b207a7-027a-5e70-b257-86293d7955fd]\n",
      "└ @ Base loading.jl:1186\n"
     ]
    }
   ],
   "source": [
    "using Distributions, Plots, StatsPlots"
   ]
  },
  {
   "cell_type": "code",
   "execution_count": 13,
   "metadata": {},
   "outputs": [
    {
     "data": {
      "text/plain": [
       "0.0:0.001001001001001001:1.0"
      ]
     },
     "execution_count": 13,
     "metadata": {},
     "output_type": "execute_result"
    }
   ],
   "source": []
  },
  {
   "cell_type": "code",
   "execution_count": 15,
   "metadata": {},
   "outputs": [
    {
     "data": {
      "text/plain": [
       "1000-element Array{Float64,1}:\n",
       " Inf                 \n",
       "  25.422107560124214 \n",
       "  13.635667432713094 \n",
       "   9.47515897225676  \n",
       "   7.3203909284937945\n",
       "   5.993883384589836 \n",
       "   5.0914160823557895\n",
       "   4.435885199293701 \n",
       "   3.9371481920962412\n",
       "   3.5443704360007255\n",
       "   3.2266538431260607\n",
       "   2.9641103802424325\n",
       "   2.7433453332744895\n",
       "   ⋮                 \n",
       "   2.964110380242438 \n",
       "   3.2266538431260607\n",
       "   3.5443704360007193\n",
       "   3.9371481920962204\n",
       "   4.435885199293725 \n",
       "   5.0914160823558126\n",
       "   5.993883384589836 \n",
       "   7.320390928493755 \n",
       "   9.475158972256642 \n",
       "  13.63566743271336  \n",
       "  25.42210756012471  \n",
       " Inf                 "
      ]
     },
     "execution_count": 15,
     "metadata": {},
     "output_type": "execute_result"
    }
   ],
   "source": [
    "y = pdf.(d,x)"
   ]
  },
  {
   "cell_type": "code",
   "execution_count": 33,
   "metadata": {},
   "outputs": [],
   "source": [
    "d = Beta(0.7)\n",
    "x = range(0,1,length=1000)\n",
    "y1 = pdf.(d,x)\n",
    "d = Beta(1)\n",
    "y2 = pdf.(d,x)\n",
    "d = Beta(10)\n",
    "y3 = pdf.(d,x)\n",
    "plot(x,[y1 y2 y3],xlabel=\"Value\",ylabel=\"Density\",labels=[\"\\\\alpha=0.7\",\"\\\\alpha=1\",\"\\\\alpha=10\"])\n",
    "savefig(\"density.pdf\")"
   ]
  },
  {
   "cell_type": "code",
   "execution_count": 25,
   "metadata": {},
   "outputs": [
    {
     "data": {
      "text/plain": [
       ":alpha"
      ]
     },
     "execution_count": 25,
     "metadata": {},
     "output_type": "execute_result"
    }
   ],
   "source": []
  },
  {
   "cell_type": "code",
   "execution_count": null,
   "metadata": {},
   "outputs": [],
   "source": []
  }
 ],
 "metadata": {
  "kernelspec": {
   "display_name": "Julia 1.1.0",
   "language": "julia",
   "name": "julia-1.1"
  },
  "language_info": {
   "file_extension": ".jl",
   "mimetype": "application/julia",
   "name": "julia",
   "version": "1.1.0"
  }
 },
 "nbformat": 4,
 "nbformat_minor": 2
}
